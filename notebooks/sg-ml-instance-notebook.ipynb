{
 "cells": [
  {
   "cell_type": "code",
   "execution_count": null,
   "id": "94f9a43a",
   "metadata": {},
   "outputs": [],
   "source": [
    "#data preparation\n",
    "#move data to an S3 bucket\n",
    "#create the model\n",
    "#train the model\n",
    "#deploy the model"
   ]
  },
  {
   "cell_type": "markdown",
   "id": "40aac158",
   "metadata": {},
   "source": [
    "# data preparation"
   ]
  },
  {
   "cell_type": "code",
   "execution_count": 2,
   "id": "c47798c3",
   "metadata": {},
   "outputs": [
    {
     "data": {
      "text/plain": [
       "('data.zip', <http.client.HTTPMessage at 0x7f6ef4a57550>)"
      ]
     },
     "execution_count": 2,
     "metadata": {},
     "output_type": "execute_result"
    }
   ],
   "source": [
    "import urllib.request\n",
    "urllib.request.urlretrieve('https://archive.ics.uci.edu/static/public/53/iris.zip',\n",
    "                           'data.zip')"
   ]
  },
  {
   "cell_type": "code",
   "execution_count": 3,
   "id": "335854d9",
   "metadata": {},
   "outputs": [
    {
     "name": "stdout",
     "output_type": "stream",
     "text": [
      "Archive:  data.zip\r\n",
      "  inflating: data/Index              \r\n",
      "  inflating: data/bezdekIris.data    \r\n",
      "  inflating: data/iris.data          \r\n",
      "  inflating: data/iris.names         \r\n"
     ]
    }
   ],
   "source": [
    "!mkdir data\n",
    "!unzip data.zip -d data/"
   ]
  },
  {
   "cell_type": "code",
   "execution_count": 4,
   "id": "eb209be2",
   "metadata": {},
   "outputs": [
    {
     "name": "stdout",
     "output_type": "stream",
     "text": [
      "       0    1    2    3  4\n",
      "0    5.1  3.5  1.4  0.2  0\n",
      "1    4.9  3.0  1.4  0.2  0\n",
      "2    4.7  3.2  1.3  0.2  0\n",
      "3    4.6  3.1  1.5  0.2  0\n",
      "4    5.0  3.6  1.4  0.2  0\n",
      "..   ...  ...  ...  ... ..\n",
      "145  6.7  3.0  5.2  2.3  1\n",
      "146  6.3  2.5  5.0  1.9  1\n",
      "147  6.5  3.0  5.2  2.0  1\n",
      "148  6.2  3.4  5.4  2.3  1\n",
      "149  5.9  3.0  5.1  1.8  1\n",
      "\n",
      "[150 rows x 5 columns]\n",
      "     4    0    1    2    3\n",
      "0    2  5.6  3.0  4.5  1.5\n",
      "1    2  5.5  2.6  4.4  1.2\n",
      "2    0  4.3  3.0  1.1  0.1\n",
      "3    1  7.1  3.0  5.9  2.1\n",
      "4    0  5.4  3.9  1.3  0.4\n",
      "..  ..  ...  ...  ...  ...\n",
      "145  0  5.1  3.4  1.5  0.2\n",
      "146  2  6.6  3.0  4.4  1.4\n",
      "147  2  5.7  2.9  4.2  1.3\n",
      "148  0  5.7  3.8  1.7  0.3\n",
      "149  2  5.0  2.0  3.5  1.0\n",
      "\n",
      "[150 rows x 5 columns]\n"
     ]
    },
    {
     "name": "stderr",
     "output_type": "stream",
     "text": [
      "/tmp/ipykernel_8749/3977723427.py:11: FutureWarning: Downcasting behavior in `replace` is deprecated and will be removed in a future version. To retain the old behavior, explicitly call `result.infer_objects(copy=False)`. To opt-in to the future behavior, set `pd.set_option('future.no_silent_downcasting', True)`\n",
      "  data[4] = data[4].replace('Iris-versicolor',2)\n"
     ]
    }
   ],
   "source": [
    "import pandas as pd\n",
    "\n",
    "# read the data\n",
    "\n",
    "data=pd.read_csv('data/iris.data' , header=None)\n",
    "\n",
    "# convert to numerical values\n",
    "\n",
    "data[4] = data[4].replace('Iris-setosa',0)\n",
    "data[4] = data[4].replace('Iris-virginica',1)\n",
    "data[4] = data[4].replace('Iris-versicolor',2)\n",
    "data[4] = data[4].infer_objects(copy=False)\n",
    "\n",
    "print(data)\n",
    "\n",
    "# shuffle\n",
    "data = data.sample(frac=1).reset_index(drop=True)\n",
    "\n",
    "# change the label col index\n",
    "data = data[[4,0,1,2,3]]\n",
    "\n",
    "print(data)\n",
    "\n",
    "#split (train,val sets)\n",
    "# 80% train data\n",
    "# 20% validation data\n",
    "\n",
    "train_data = data[:120]\n",
    "val_data = data[120:]\n"
   ]
  },
  {
   "cell_type": "markdown",
   "id": "5b4482fe",
   "metadata": {},
   "source": [
    "# move data to a S3 bucket"
   ]
  },
  {
   "cell_type": "code",
   "execution_count": 5,
   "id": "ae7924ab",
   "metadata": {},
   "outputs": [],
   "source": [
    "import boto3\n",
    "\n",
    "bucket_name = 'myawsbucket-ml-deploy'\n",
    "\n",
    "train_data.to_csv('data.csv',header = False, index = False)\n",
    "key = 'data/train/data'\n",
    "url = 's3://{}/{}/'.format(bucket_name, key)\n",
    "boto3.Session().resource('s3').Bucket(bucket_name).Object(key).upload_file('data.csv')\n",
    "\n",
    "val_data.to_csv('data.csv',header = False, index = False)\n",
    "key = 'data/val/data'\n",
    "url = 's3://{}/{}/'.format(bucket_name, key)\n",
    "boto3.Session().resource('s3').Bucket(bucket_name).Object(key).upload_file('data.csv')\n"
   ]
  },
  {
   "cell_type": "markdown",
   "id": "31025916",
   "metadata": {},
   "source": [
    "# create a model"
   ]
  },
  {
   "cell_type": "code",
   "execution_count": 8,
   "id": "71f8f298",
   "metadata": {},
   "outputs": [
    {
     "name": "stderr",
     "output_type": "stream",
     "text": [
      "WARNING:sagemaker.deprecations:The method get_image_uri has been renamed in sagemaker>=2.\n",
      "See: https://sagemaker.readthedocs.io/en/stable/v2.html for details.\n",
      "INFO:sagemaker.image_uris:Ignoring unnecessary instance type: None.\n",
      "WARNING:sagemaker.deprecations:train_instance_count has been renamed in sagemaker>=2.\n",
      "See: https://sagemaker.readthedocs.io/en/stable/v2.html for details.\n",
      "WARNING:sagemaker.deprecations:train_instance_type has been renamed in sagemaker>=2.\n",
      "See: https://sagemaker.readthedocs.io/en/stable/v2.html for details.\n",
      "WARNING:sagemaker.deprecations:train_volume_size has been renamed in sagemaker>=2.\n",
      "See: https://sagemaker.readthedocs.io/en/stable/v2.html for details.\n"
     ]
    }
   ],
   "source": [
    "\n",
    "import sagemaker \n",
    "from sagemaker.amazon.amazon_estimator import get_image_uri \n",
    "from sagemaker import get_execution_role\n",
    "\n",
    "key = 'model/xgb_model'\n",
    "s3_output_location = url= 's3://{}/{}'.format(bucket_name, key)\n",
    "\n",
    "xgb_model=sagemaker.estimator.Estimator( \n",
    "    get_image_uri(boto3.Session().region_name, 'xgboost'),\n",
    "    get_execution_role(), \n",
    "    train_instance_count= 1,\n",
    "    train_instance_type='ml.m4.xlarge',\n",
    "    train_volume_size=5,\n",
    "    output_path = s3_output_location,\n",
    "    sagemaker_session=sagemaker.Session()\n",
    ")\n",
    "\n",
    "xgb_model.set_hyperparameters(max_depth=5,\n",
    "                              eta=0.2,\n",
    "                              gamma=4,\n",
    "                              min_child_weight=6,\n",
    "                              silent=0,\n",
    "                              objective='multi:softmax',\n",
    "                              num_class=3,\n",
    "                              num_round=10)\n"
   ]
  },
  {
   "cell_type": "markdown",
   "id": "f84871d2",
   "metadata": {},
   "source": [
    "# train model"
   ]
  },
  {
   "cell_type": "code",
   "execution_count": 9,
   "id": "66435716",
   "metadata": {},
   "outputs": [
    {
     "name": "stderr",
     "output_type": "stream",
     "text": [
      "WARNING:sagemaker.deprecations:The class sagemaker.session.s3_input has been renamed in sagemaker>=2.\n",
      "See: https://sagemaker.readthedocs.io/en/stable/v2.html for details.\n",
      "WARNING:sagemaker.deprecations:The class sagemaker.session.s3_input has been renamed in sagemaker>=2.\n",
      "See: https://sagemaker.readthedocs.io/en/stable/v2.html for details.\n",
      "INFO:sagemaker:Creating training-job with name: xgboost-2024-07-02-08-15-28-577\n"
     ]
    },
    {
     "name": "stdout",
     "output_type": "stream",
     "text": [
      "2024-07-02 08:15:28 Starting - Starting the training job...\n",
      "2024-07-02 08:15:43 Starting - Preparing the instances for training...\n",
      "2024-07-02 08:16:10 Downloading - Downloading input data...\n",
      "2024-07-02 08:16:45 Downloading - Downloading the training image......\n",
      "2024-07-02 08:17:51 Training - Training image download completed. Training in progress.\n",
      "2024-07-02 08:17:51 Uploading - Uploading generated training model\u001b[34mArguments: train\u001b[0m\n",
      "\u001b[34m[2024-07-02:08:17:45:INFO] Running standalone xgboost training.\u001b[0m\n",
      "\u001b[34m[2024-07-02:08:17:45:INFO] File size need to be processed in the node: 0.0mb. Available memory size in the node: 8463.96mb\u001b[0m\n",
      "\u001b[34m[2024-07-02:08:17:45:INFO] Determined delimiter of CSV input is ','\u001b[0m\n",
      "\u001b[34m[08:17:45] S3DistributionType set as FullyReplicated\u001b[0m\n",
      "\u001b[34m[08:17:45] 120x4 matrix with 480 entries loaded from /opt/ml/input/data/train?format=csv&label_column=0&delimiter=,\u001b[0m\n",
      "\u001b[34m[2024-07-02:08:17:45:INFO] Determined delimiter of CSV input is ','\u001b[0m\n",
      "\u001b[34m[08:17:45] S3DistributionType set as FullyReplicated\u001b[0m\n",
      "\u001b[34m[08:17:45] 30x4 matrix with 120 entries loaded from /opt/ml/input/data/validation?format=csv&label_column=0&delimiter=,\u001b[0m\n",
      "\u001b[34m[08:17:45] src/tree/updater_prune.cc:74: tree pruning end, 1 roots, 2 extra nodes, 0 pruned nodes, max_depth=1\u001b[0m\n",
      "\u001b[34m[08:17:45] src/tree/updater_prune.cc:74: tree pruning end, 1 roots, 2 extra nodes, 2 pruned nodes, max_depth=1\u001b[0m\n",
      "\u001b[34m[08:17:45] src/tree/updater_prune.cc:74: tree pruning end, 1 roots, 4 extra nodes, 2 pruned nodes, max_depth=2\u001b[0m\n",
      "\u001b[34m[0]#011train-merror:0.041667#011validation-merror:0.066667\u001b[0m\n",
      "\u001b[34m[08:17:45] src/tree/updater_prune.cc:74: tree pruning end, 1 roots, 2 extra nodes, 0 pruned nodes, max_depth=1\u001b[0m\n",
      "\u001b[34m[08:17:45] src/tree/updater_prune.cc:74: tree pruning end, 1 roots, 2 extra nodes, 2 pruned nodes, max_depth=1\u001b[0m\n",
      "\u001b[34m[1]#011train-merror:0.041667#011validation-merror:0.066667\u001b[0m\n",
      "\u001b[34m[08:17:45] src/tree/updater_prune.cc:74: tree pruning end, 1 roots, 4 extra nodes, 0 pruned nodes, max_depth=2\u001b[0m\n",
      "\u001b[34m[08:17:45] src/tree/updater_prune.cc:74: tree pruning end, 1 roots, 2 extra nodes, 0 pruned nodes, max_depth=1\u001b[0m\n",
      "\u001b[34m[08:17:45] src/tree/updater_prune.cc:74: tree pruning end, 1 roots, 2 extra nodes, 2 pruned nodes, max_depth=1\u001b[0m\n",
      "\u001b[34m[08:17:45] src/tree/updater_prune.cc:74: tree pruning end, 1 roots, 4 extra nodes, 0 pruned nodes, max_depth=2\u001b[0m\n",
      "\u001b[34m[2]#011train-merror:0.041667#011validation-merror:0.066667\u001b[0m\n",
      "\u001b[34m[08:17:45] src/tree/updater_prune.cc:74: tree pruning end, 1 roots, 2 extra nodes, 0 pruned nodes, max_depth=1\u001b[0m\n",
      "\u001b[34m[08:17:45] src/tree/updater_prune.cc:74: tree pruning end, 1 roots, 2 extra nodes, 2 pruned nodes, max_depth=1\u001b[0m\n",
      "\u001b[34m[08:17:45] src/tree/updater_prune.cc:74: tree pruning end, 1 roots, 4 extra nodes, 2 pruned nodes, max_depth=2\u001b[0m\n",
      "\u001b[34m[3]#011train-merror:0.041667#011validation-merror:0.066667\u001b[0m\n",
      "\u001b[34m[08:17:45] src/tree/updater_prune.cc:74: tree pruning end, 1 roots, 2 extra nodes, 0 pruned nodes, max_depth=1\u001b[0m\n",
      "\u001b[34m[08:17:45] src/tree/updater_prune.cc:74: tree pruning end, 1 roots, 2 extra nodes, 2 pruned nodes, max_depth=1\u001b[0m\n",
      "\u001b[34m[08:17:45] src/tree/updater_prune.cc:74: tree pruning end, 1 roots, 4 extra nodes, 0 pruned nodes, max_depth=2\u001b[0m\n",
      "\u001b[34m[4]#011train-merror:0.041667#011validation-merror:0.066667\u001b[0m\n",
      "\u001b[34m[08:17:45] src/tree/updater_prune.cc:74: tree pruning end, 1 roots, 2 extra nodes, 0 pruned nodes, max_depth=1\u001b[0m\n",
      "\u001b[34m[08:17:45] src/tree/updater_prune.cc:74: tree pruning end, 1 roots, 2 extra nodes, 2 pruned nodes, max_depth=1\u001b[0m\n",
      "\u001b[34m[08:17:45] src/tree/updater_prune.cc:74: tree pruning end, 1 roots, 4 extra nodes, 0 pruned nodes, max_depth=2\u001b[0m\n",
      "\u001b[34m[5]#011train-merror:0.025#011validation-merror:0.066667\u001b[0m\n",
      "\u001b[34m[08:17:45] src/tree/updater_prune.cc:74: tree pruning end, 1 roots, 2 extra nodes, 0 pruned nodes, max_depth=1\u001b[0m\n",
      "\u001b[34m[08:17:45] src/tree/updater_prune.cc:74: tree pruning end, 1 roots, 2 extra nodes, 2 pruned nodes, max_depth=1\u001b[0m\n",
      "\u001b[34m[08:17:45] src/tree/updater_prune.cc:74: tree pruning end, 1 roots, 4 extra nodes, 2 pruned nodes, max_depth=2\u001b[0m\n",
      "\u001b[34m[6]#011train-merror:0.025#011validation-merror:0.066667\u001b[0m\n",
      "\u001b[34m[08:17:45] src/tree/updater_prune.cc:74: tree pruning end, 1 roots, 2 extra nodes, 0 pruned nodes, max_depth=1\u001b[0m\n",
      "\u001b[34m[08:17:45] src/tree/updater_prune.cc:74: tree pruning end, 1 roots, 2 extra nodes, 2 pruned nodes, max_depth=1\u001b[0m\n",
      "\u001b[34m[08:17:45] src/tree/updater_prune.cc:74: tree pruning end, 1 roots, 4 extra nodes, 0 pruned nodes, max_depth=2\u001b[0m\n",
      "\u001b[34m[7]#011train-merror:0.025#011validation-merror:0.066667\u001b[0m\n",
      "\u001b[34m[08:17:45] src/tree/updater_prune.cc:74: tree pruning end, 1 roots, 2 extra nodes, 0 pruned nodes, max_depth=1\u001b[0m\n",
      "\u001b[34m[08:17:45] src/tree/updater_prune.cc:74: tree pruning end, 1 roots, 2 extra nodes, 2 pruned nodes, max_depth=1\u001b[0m\n",
      "\u001b[34m[08:17:45] src/tree/updater_prune.cc:74: tree pruning end, 1 roots, 0 extra nodes, 4 pruned nodes, max_depth=0\u001b[0m\n",
      "\u001b[34m[08:17:45] src/tree/updater_prune.cc:74: tree pruning end, 1 roots, 2 extra nodes, 0 pruned nodes, max_depth=1\u001b[0m\n",
      "\u001b[34m[08:17:45] src/tree/updater_prune.cc:74: tree pruning end, 1 roots, 2 extra nodes, 2 pruned nodes, max_depth=1\u001b[0m\n",
      "\u001b[34m[08:17:45] src/tree/updater_prune.cc:74: tree pruning end, 1 roots, 0 extra nodes, 4 pruned nodes, max_depth=0\u001b[0m\n",
      "\u001b[34m[8]#011train-merror:0.025#011validation-merror:0.066667\u001b[0m\n",
      "\u001b[34m[9]#011train-merror:0.025#011validation-merror:0.066667\u001b[0m\n",
      "\n",
      "2024-07-02 08:18:05 Completed - Training job completed\n",
      "Training seconds: 114\n",
      "Billable seconds: 114\n"
     ]
    }
   ],
   "source": [
    "train_data = 's3://{}/{}'.format(bucket_name,'data/train')\n",
    "val_data = 's3://{}/{}'.format(bucket_name,'data/val')\n",
    "\n",
    "train_channel = sagemaker.session.s3_input(train_data,content_type='text/csv')\n",
    "val_channel = sagemaker.session.s3_input(val_data,content_type='text/csv')\n",
    "\n",
    "#dict data_channels with two keys\n",
    "data_channels = {'train':train_channel,'validation':val_channel}\n",
    "\n",
    "xgb_model.fit(inputs = data_channels)\n"
   ]
  },
  {
   "cell_type": "markdown",
   "id": "d0aacda5",
   "metadata": {},
   "source": [
    "# deploy model"
   ]
  },
  {
   "cell_type": "code",
   "execution_count": 10,
   "id": "73647d9e",
   "metadata": {},
   "outputs": [
    {
     "name": "stderr",
     "output_type": "stream",
     "text": [
      "INFO:sagemaker:Creating model with name: xgboost-2024-07-02-08-22-07-295\n",
      "INFO:sagemaker:Creating endpoint-config with name xgboost-2024-07-02-08-22-07-295\n",
      "INFO:sagemaker:Creating endpoint with name xgboost-2024-07-02-08-22-07-295\n"
     ]
    },
    {
     "name": "stdout",
     "output_type": "stream",
     "text": [
      "-------!"
     ]
    }
   ],
   "source": [
    "xgb_predictor = xgb_model.deploy(initial_instance_count = 1,\n",
    "                                 instance_type = 'ml.m4.xlarge')"
   ]
  }
 ],
 "metadata": {
  "kernelspec": {
   "display_name": "conda_python3",
   "language": "python",
   "name": "conda_python3"
  },
  "language_info": {
   "codemirror_mode": {
    "name": "ipython",
    "version": 3
   },
   "file_extension": ".py",
   "mimetype": "text/x-python",
   "name": "python",
   "nbconvert_exporter": "python",
   "pygments_lexer": "ipython3",
   "version": "3.10.14"
  }
 },
 "nbformat": 4,
 "nbformat_minor": 5
}
